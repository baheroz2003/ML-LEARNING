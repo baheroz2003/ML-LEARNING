{
 "cells": [
  {
   "cell_type": "code",
   "execution_count": 2,
   "metadata": {
    "colab": {
     "base_uri": "https://localhost:8080/"
    },
    "executionInfo": {
     "elapsed": 6,
     "status": "ok",
     "timestamp": 1729082963954,
     "user": {
      "displayName": "Baheroz Zeya",
      "userId": "09839154690143653006"
     },
     "user_tz": -330
    },
    "id": "8Bkd9Quxd56Q",
    "outputId": "cedbb3a0-06bb-4763-bb14-d5db92b20e66"
   },
   "outputs": [
    {
     "name": "stdout",
     "output_type": "stream",
     "text": [
      "[0, 1, 2, 3, 4, 5, 6, 7, 8, 9, 10, 11, 12, 13, 14, 15, 16, 17, 18, 19, 20, 21, 22, 23, 24, 25, 26, 27, 28, 29, 30, 31, 32, 33, 34, 35, 36, 37, 38, 39, 40, 41, 42, 43, 44, 45, 46, 47, 48, 49, 50, 51, 52, 53, 54, 55, 56, 57, 58, 59, 60, 61, 62, 63, 64, 65, 66, 67, 68, 69, 70, 71, 72, 73, 74, 75, 76, 77, 78, 79, 80, 81, 82, 83, 84, 85, 86, 87, 88, 89, 90, 91, 92, 93, 94, 95, 96, 97, 98, 99]\n",
      "[ 0  1  2  3  4  5  6  7  8  9 10 11 12 13 14 15 16 17 18 19 20 21 22 23\n",
      " 24 25 26 27 28 29 30 31 32 33 34 35 36 37 38 39 40 41 42 43 44 45 46 47\n",
      " 48 49 50 51 52 53 54 55 56 57 58 59 60 61 62 63 64 65 66 67 68 69 70 71\n",
      " 72 73 74 75 76 77 78 79 80 81 82 83 84 85 86 87 88 89 90 91 92 93 94 95\n",
      " 96 97 98 99]\n",
      "8\n"
     ]
    }
   ],
   "source": [
    "#NUMPY-Numerical python\n",
    "#multidimensional array\n",
    "import numpy as np\n",
    "arr=[i for i in range(0,100)]\n",
    "np_arr=np.arange(100)\n",
    "print(arr)\n",
    "print(np_arr)\n",
    "#size of one element in numpy array\n",
    "print(np_arr.itemsize)\n"
   ]
  },
  {
   "cell_type": "code",
   "execution_count": 4,
   "metadata": {
    "colab": {
     "base_uri": "https://localhost:8080/"
    },
    "executionInfo": {
     "elapsed": 720,
     "status": "ok",
     "timestamp": 1729082972844,
     "user": {
      "displayName": "Baheroz Zeya",
      "userId": "09839154690143653006"
     },
     "user_tz": -330
    },
    "id": "a-8KWTXhX5M-",
    "outputId": "61a9c2c4-01ac-4947-9cb3-33292f7eb5b8"
   },
   "outputs": [
    {
     "name": "stdout",
     "output_type": "stream",
     "text": [
      "[2 3 4 5]\n"
     ]
    }
   ],
   "source": [
    "arr=[1,2,3,4]\n",
    "np_arr=np.array(arr)\n",
    "print(np_arr+1)"
   ]
  },
  {
   "cell_type": "code",
   "execution_count": null,
   "metadata": {
    "id": "O-N6EeEQ4L-z"
   },
   "outputs": [],
   "source": [
    "#if we have import some csv file and have research on it\n"
   ]
  },
  {
   "cell_type": "code",
   "execution_count": null,
   "metadata": {
    "id": "CoiuBWvzDawK"
   },
   "outputs": [],
   "source": [
    "#three dimensional array\n",
    "import numpy as np\n",
    "C=np.array([[[1,2,3],[4,5,6],[0,0, -1]],[[-1,-2,-3],[-4,-5,-6],[0,0,1]]])"
   ]
  },
  {
   "cell_type": "code",
   "execution_count": null,
   "metadata": {
    "colab": {
     "base_uri": "https://localhost:8080/"
    },
    "executionInfo": {
     "elapsed": 945,
     "status": "ok",
     "timestamp": 1717837876791,
     "user": {
      "displayName": "Baheroz Zeya",
      "userId": "09839154690143653006"
     },
     "user_tz": -330
    },
    "id": "-D3PbL7fFXS0",
    "outputId": "e7785935-402d-4d74-caad-21ec166ffb6d"
   },
   "outputs": [
    {
     "data": {
      "text/plain": [
       "-3"
      ]
     },
     "execution_count": 22,
     "metadata": {},
     "output_type": "execute_result"
    }
   ],
   "source": [
    "C[1,0,2]"
   ]
  },
  {
   "cell_type": "code",
   "execution_count": null,
   "metadata": {
    "colab": {
     "base_uri": "https://localhost:8080/"
    },
    "executionInfo": {
     "elapsed": 459,
     "status": "ok",
     "timestamp": 1717838001417,
     "user": {
      "displayName": "Baheroz Zeya",
      "userId": "09839154690143653006"
     },
     "user_tz": -330
    },
    "id": "Cm7-HnakG4KD",
    "outputId": "d19c2584-2a64-4538-b370-0161cc321066"
   },
   "outputs": [
    {
     "data": {
      "text/plain": [
       "(2, 3, 3)"
      ]
     },
     "execution_count": 24,
     "metadata": {},
     "output_type": "execute_result"
    }
   ],
   "source": [
    "C.shape #it returns a tuple"
   ]
  },
  {
   "cell_type": "code",
   "execution_count": null,
   "metadata": {
    "colab": {
     "base_uri": "https://localhost:8080/"
    },
    "executionInfo": {
     "elapsed": 533,
     "status": "ok",
     "timestamp": 1717838032608,
     "user": {
      "displayName": "Baheroz Zeya",
      "userId": "09839154690143653006"
     },
     "user_tz": -330
    },
    "id": "fn_F1yetIAav",
    "outputId": "6f314769-a3f8-4141-f979-77e83f5df6b8"
   },
   "outputs": [
    {
     "data": {
      "text/plain": [
       "2"
      ]
     },
     "execution_count": 25,
     "metadata": {},
     "output_type": "execute_result"
    }
   ],
   "source": [
    "#C.shape[0]-how many 2d arrays rows\n",
    "#C.shape[1]-how many elements  columns\n",
    "#C.shape[2]-in 1d array how many elements are there \n",
    "\n"
   ]
  },
  {
   "cell_type": "code",
   "execution_count": null,
   "metadata": {
    "id": "nt_YKbw5nLfc"
   },
   "outputs": [],
   "source": [
    "#A=np.array([2])\n",
    "#ndim-1\n",
    "#b=np.array(3)\n",
    "#ndim-0"
   ]
  },
  {
   "cell_type": "code",
   "execution_count": null,
   "metadata": {
    "colab": {
     "base_uri": "https://localhost:8080/"
    },
    "executionInfo": {
     "elapsed": 484,
     "status": "ok",
     "timestamp": 1715528978070,
     "user": {
      "displayName": "Baheroz Zeya",
      "userId": "09839154690143653006"
     },
     "user_tz": -330
    },
    "id": "lNsK3Idoe3Xy",
    "outputId": "a90165f5-a715-4fce-d27e-5bfb178ca489"
   },
   "outputs": [
    {
     "name": "stdout",
     "output_type": "stream",
     "text": [
      "800\n"
     ]
    }
   ],
   "source": [
    "#size of 100elements in numpy array\n",
    "print(np_arr.itemsize*np_arr.size)"
   ]
  },
  {
   "cell_type": "code",
   "execution_count": null,
   "metadata": {
    "colab": {
     "base_uri": "https://localhost:8080/"
    },
    "executionInfo": {
     "elapsed": 658,
     "status": "ok",
     "timestamp": 1715529233086,
     "user": {
      "displayName": "Baheroz Zeya",
      "userId": "09839154690143653006"
     },
     "user_tz": -330
    },
    "id": "GJ0HISDzfEy0",
    "outputId": "096034a2-20c8-4ce1-df71-c437c4d7a029"
   },
   "outputs": [
    {
     "name": "stdout",
     "output_type": "stream",
     "text": [
      "28\n",
      "2800\n"
     ]
    }
   ],
   "source": [
    "import sys\n",
    "a=20\n",
    "print(sys.getsizeof(a))\n",
    "print(sys.getsizeof(1)*len(arr))"
   ]
  },
  {
   "cell_type": "code",
   "execution_count": null,
   "metadata": {
    "colab": {
     "base_uri": "https://localhost:8080/"
    },
    "executionInfo": {
     "elapsed": 404,
     "status": "ok",
     "timestamp": 1717234972398,
     "user": {
      "displayName": "Baheroz Zeya",
      "userId": "09839154690143653006"
     },
     "user_tz": -330
    },
    "id": "Bz3eJINzhQEG",
    "outputId": "218529b6-e7a7-40d4-97d1-d0c2e0929400"
   },
   "outputs": [
    {
     "name": "stdout",
     "output_type": "stream",
     "text": [
      "list= 42.723894119262695\n",
      "numpy= 1.6927719116210938\n"
     ]
    }
   ],
   "source": [
    "import time\n",
    "import numpy as np\n",
    "size = 100000\n",
    "\n",
    "def addition_using_list():\n",
    "    t1 = time.time()\n",
    "    a = range(size)\n",
    "    b = range(size)\n",
    "    c = [a[i] + b[i] for i in range(size)]\n",
    "    t2 = time.time()\n",
    "    return (t2-t1)\n",
    "def addition_using_numpy():\n",
    "    t1 = time.time()\n",
    "    a =np.arange(size)\n",
    "    b =np.arange(size)\n",
    "    c =a+b\n",
    "    t2 = time.time()\n",
    "    return (t2-t1)\n",
    "t_list=addition_using_list()\n",
    "t_numpy=addition_using_numpy()\n",
    "print(\"list=\",t_list*1000)\n",
    "print(\"numpy=\",t_numpy*1000)\n",
    "\n"
   ]
  },
  {
   "cell_type": "code",
   "execution_count": null,
   "metadata": {
    "colab": {
     "base_uri": "https://localhost:8080/"
    },
    "executionInfo": {
     "elapsed": 6,
     "status": "ok",
     "timestamp": 1715534550207,
     "user": {
      "displayName": "Baheroz Zeya",
      "userId": "09839154690143653006"
     },
     "user_tz": -330
    },
    "id": "GkVZ-8f_y6gh",
    "outputId": "5cefd3c0-17f3-4581-d511-6acbb2ceac49"
   },
   "outputs": [
    {
     "name": "stdout",
     "output_type": "stream",
     "text": [
      "[1 2 3]\n",
      "<class 'numpy.ndarray'>\n"
     ]
    }
   ],
   "source": [
    "#numpy is easier to calculate in less time.\n",
    "#because it is written in c and fortran language\n",
    "#creating\n",
    "import numpy as np\n",
    "a=[1,2,3]\n",
    "b=np.array(a)\n",
    "print(b)\n",
    "print(type(b))\n",
    "\n"
   ]
  },
  {
   "cell_type": "code",
   "execution_count": null,
   "metadata": {
    "colab": {
     "base_uri": "https://localhost:8080/"
    },
    "executionInfo": {
     "elapsed": 433,
     "status": "ok",
     "timestamp": 1717828366982,
     "user": {
      "displayName": "Baheroz Zeya",
      "userId": "09839154690143653006"
     },
     "user_tz": -330
    },
    "id": "8U6Kzfaeirw0",
    "outputId": "3e4b77f6-5ef7-45ca-d7a9-b63f0c6a159d"
   },
   "outputs": [
    {
     "name": "stdout",
     "output_type": "stream",
     "text": [
      "2\n"
     ]
    }
   ],
   "source": [
    "import numpy as np\n",
    "a=np.array([[1,2,3],[4,5,6]])\n",
    "print(a.ndim)"
   ]
  },
  {
   "cell_type": "code",
   "execution_count": null,
   "metadata": {
    "colab": {
     "base_uri": "https://localhost:8080/"
    },
    "executionInfo": {
     "elapsed": 502,
     "status": "ok",
     "timestamp": 1715534654110,
     "user": {
      "displayName": "Baheroz Zeya",
      "userId": "09839154690143653006"
     },
     "user_tz": -330
    },
    "id": "JSYJeuQT0-bh",
    "outputId": "fa3f7697-c748-4a2f-fd07-322a622aa755"
   },
   "outputs": [
    {
     "name": "stdout",
     "output_type": "stream",
     "text": [
      "[1 2 3 3 4]\n"
     ]
    }
   ],
   "source": [
    "# a=[1,2,3,\"a\",4.5]\n",
    "a=[1,2,3,3.5,4.5]\n",
    "b=np.array(a,dtype='int')\n",
    "print(b)"
   ]
  },
  {
   "cell_type": "code",
   "execution_count": null,
   "metadata": {
    "colab": {
     "base_uri": "https://localhost:8080/"
    },
    "executionInfo": {
     "elapsed": 4348,
     "status": "ok",
     "timestamp": 1717831105215,
     "user": {
      "displayName": "Baheroz Zeya",
      "userId": "09839154690143653006"
     },
     "user_tz": -330
    },
    "id": "UxWIFetXtTdx",
    "outputId": "45ad1d4d-97b9-4f40-a3f5-44ec056a4f19"
   },
   "outputs": [
    {
     "data": {
      "text/plain": [
       "3"
      ]
     },
     "execution_count": 5,
     "metadata": {},
     "output_type": "execute_result"
    }
   ],
   "source": [
    "a[0,2]"
   ]
  },
  {
   "cell_type": "code",
   "execution_count": null,
   "metadata": {
    "colab": {
     "base_uri": "https://localhost:8080/"
    },
    "executionInfo": {
     "elapsed": 831,
     "status": "ok",
     "timestamp": 1715534702246,
     "user": {
      "displayName": "Baheroz Zeya",
      "userId": "09839154690143653006"
     },
     "user_tz": -330
    },
    "id": "FydfTIMP1fzH",
    "outputId": "40ed7672-d259-4d5f-d22c-5557bc066c2d"
   },
   "outputs": [
    {
     "name": "stdout",
     "output_type": "stream",
     "text": [
      "[1.  2.  3.  3.5 4.5 1.  2.  3.  3.5 4.5 1.  2.  3.  3.5 4.5]\n"
     ]
    }
   ],
   "source": [
    "a=[1,2,3,3.5,4.5]\n",
    "b=np.array(a*3)\n",
    "print(b)"
   ]
  },
  {
   "cell_type": "code",
   "execution_count": null,
   "metadata": {
    "id": "z1ccnx40vX70"
   },
   "outputs": [],
   "source": [
    "B=np.array([[1,2,3,-1],[2,4,5,9]])"
   ]
  },
  {
   "cell_type": "code",
   "execution_count": null,
   "metadata": {
    "colab": {
     "base_uri": "https://localhost:8080/"
    },
    "executionInfo": {
     "elapsed": 423,
     "status": "ok",
     "timestamp": 1717831740766,
     "user": {
      "displayName": "Baheroz Zeya",
      "userId": "09839154690143653006"
     },
     "user_tz": -330
    },
    "id": "SIx-5bMdvhie",
    "outputId": "2cce1b80-0ce2-46d0-b3d0-dd6c180787b1"
   },
   "outputs": [
    {
     "data": {
      "text/plain": [
       "2"
      ]
     },
     "execution_count": 10,
     "metadata": {},
     "output_type": "execute_result"
    }
   ],
   "source": [
    "B.ndim"
   ]
  },
  {
   "cell_type": "code",
   "execution_count": null,
   "metadata": {
    "colab": {
     "base_uri": "https://localhost:8080/"
    },
    "executionInfo": {
     "elapsed": 470,
     "status": "ok",
     "timestamp": 1717832611107,
     "user": {
      "displayName": "Baheroz Zeya",
      "userId": "09839154690143653006"
     },
     "user_tz": -330
    },
    "id": "beyCpAJTzTFw",
    "outputId": "c60e80ab-dee9-4650-bfbd-164cc1ec49e7"
   },
   "outputs": [
    {
     "data": {
      "text/plain": [
       "3"
      ]
     },
     "execution_count": 12,
     "metadata": {},
     "output_type": "execute_result"
    }
   ],
   "source": [
    "B[0,2] #used to print 2nd index of array 1"
   ]
  },
  {
   "cell_type": "code",
   "execution_count": null,
   "metadata": {
    "id": "D1ry9nZCzJ50"
   },
   "outputs": [],
   "source": [
    "# LETS START WITH PLACE HOLDER OF ARRAYS"
   ]
  },
  {
   "cell_type": "code",
   "execution_count": null,
   "metadata": {
    "colab": {
     "base_uri": "https://localhost:8080/"
    },
    "executionInfo": {
     "elapsed": 5,
     "status": "ok",
     "timestamp": 1715534805447,
     "user": {
      "displayName": "Baheroz Zeya",
      "userId": "09839154690143653006"
     },
     "user_tz": -330
    },
    "id": "DbuF_IDi1oAN",
    "outputId": "e66ca6ab-16f8-4698-9c4e-588834a573c7"
   },
   "outputs": [
    {
     "data": {
      "text/plain": [
       "array([1., 1., 1.])"
      ]
     },
     "execution_count": 10,
     "metadata": {},
     "output_type": "execute_result"
    }
   ],
   "source": [
    "b=np.ones(3)\n",
    "b"
   ]
  },
  {
   "cell_type": "code",
   "execution_count": null,
   "metadata": {
    "colab": {
     "base_uri": "https://localhost:8080/"
    },
    "executionInfo": {
     "elapsed": 422,
     "status": "ok",
     "timestamp": 1715534785705,
     "user": {
      "displayName": "Baheroz Zeya",
      "userId": "09839154690143653006"
     },
     "user_tz": -330
    },
    "id": "LyFlSkHv1xy8",
    "outputId": "ae5ed0e8-51ad-42dd-eb40-797e9d180862"
   },
   "outputs": [
    {
     "name": "stdout",
     "output_type": "stream",
     "text": [
      "[0 0 0]\n"
     ]
    }
   ],
   "source": [
    "b=np.zeros(3,dtype=int)\n",
    "print(b)"
   ]
  },
  {
   "cell_type": "code",
   "execution_count": null,
   "metadata": {
    "colab": {
     "base_uri": "https://localhost:8080/"
    },
    "executionInfo": {
     "elapsed": 796,
     "status": "ok",
     "timestamp": 1715534871205,
     "user": {
      "displayName": "Baheroz Zeya",
      "userId": "09839154690143653006"
     },
     "user_tz": -330
    },
    "id": "upSf07Pd2Dgj",
    "outputId": "26c27796-6b58-47c5-d0a1-85cab80f3fd2"
   },
   "outputs": [
    {
     "data": {
      "text/plain": [
       "array([[0., 0., 0., 0.],\n",
       "       [0., 0., 0., 0.],\n",
       "       [0., 0., 0., 0.]])"
      ]
     },
     "execution_count": 11,
     "metadata": {},
     "output_type": "execute_result"
    }
   ],
   "source": [
    "b=np.zeros((3,4))\n",
    "b"
   ]
  },
  {
   "cell_type": "code",
   "execution_count": null,
   "metadata": {
    "colab": {
     "base_uri": "https://localhost:8080/"
    },
    "executionInfo": {
     "elapsed": 480,
     "status": "ok",
     "timestamp": 1715534893736,
     "user": {
      "displayName": "Baheroz Zeya",
      "userId": "09839154690143653006"
     },
     "user_tz": -330
    },
    "id": "IvJhsKHm2NKm",
    "outputId": "a08d77e0-09c4-4699-d942-88c20148e8b6"
   },
   "outputs": [
    {
     "data": {
      "text/plain": [
       "array([5, 5, 5])"
      ]
     },
     "execution_count": 12,
     "metadata": {},
     "output_type": "execute_result"
    }
   ],
   "source": [
    "b=np.full(3,5)\n",
    "b"
   ]
  },
  {
   "cell_type": "code",
   "execution_count": null,
   "metadata": {
    "colab": {
     "base_uri": "https://localhost:8080/"
    },
    "executionInfo": {
     "elapsed": 444,
     "status": "ok",
     "timestamp": 1715535017538,
     "user": {
      "displayName": "Baheroz Zeya",
      "userId": "09839154690143653006"
     },
     "user_tz": -330
    },
    "id": "P5Ia2vT12Yu-",
    "outputId": "41652e17-3ae5-4826-e03c-0272f2c5fb20"
   },
   "outputs": [
    {
     "data": {
      "text/plain": [
       "array([[5.05206897e-310, 0.00000000e+000, 0.00000000e+000],\n",
       "       [0.00000000e+000, 0.00000000e+000, 0.00000000e+000],\n",
       "       [0.00000000e+000, 0.00000000e+000, 0.00000000e+000]])"
      ]
     },
     "execution_count": 15,
     "metadata": {},
     "output_type": "execute_result"
    }
   ],
   "source": [
    "b=np.empty([3, 3])\n",
    "b"
   ]
  },
  {
   "cell_type": "code",
   "execution_count": null,
   "metadata": {
    "colab": {
     "base_uri": "https://localhost:8080/"
    },
    "executionInfo": {
     "elapsed": 4,
     "status": "ok",
     "timestamp": 1715535221817,
     "user": {
      "displayName": "Baheroz Zeya",
      "userId": "09839154690143653006"
     },
     "user_tz": -330
    },
    "id": "igRRC7ew3SVO",
    "outputId": "d0520fcb-9cf3-4e57-de71-67e54332228c"
   },
   "outputs": [
    {
     "data": {
      "text/plain": [
       "array([0., 0., 0., 0., 1., 0., 0., 0., 0., 0.])"
      ]
     },
     "execution_count": 18,
     "metadata": {},
     "output_type": "execute_result"
    }
   ],
   "source": [
    "b=np.zeros(10)\n",
    "b[4]=1\n",
    "b"
   ]
  },
  {
   "cell_type": "markdown",
   "metadata": {
    "id": "IAjii8gbBvll"
   },
   "source": []
  },
  {
   "cell_type": "code",
   "execution_count": null,
   "metadata": {
    "colab": {
     "base_uri": "https://localhost:8080/"
    },
    "executionInfo": {
     "elapsed": 458,
     "status": "ok",
     "timestamp": 1715571522449,
     "user": {
      "displayName": "Baheroz Zeya",
      "userId": "09839154690143653006"
     },
     "user_tz": -330
    },
    "id": "hUlV_LD3Bv_-",
    "outputId": "fe3c6f52-6b66-4303-a912-b253ac0d63fa"
   },
   "outputs": [
    {
     "data": {
      "text/plain": [
       "array([0, 1, 2, 3, 4, 5, 6, 7, 8, 9])"
      ]
     },
     "execution_count": 3,
     "metadata": {},
     "output_type": "execute_result"
    }
   ],
   "source": [
    "#numpy different function\n",
    "import numpy as np\n",
    "b=np.arange(10)\n",
    "b"
   ]
  },
  {
   "cell_type": "code",
   "execution_count": null,
   "metadata": {
    "colab": {
     "base_uri": "https://localhost:8080/"
    },
    "executionInfo": {
     "elapsed": 5,
     "status": "ok",
     "timestamp": 1715571558314,
     "user": {
      "displayName": "Baheroz Zeya",
      "userId": "09839154690143653006"
     },
     "user_tz": -330
    },
    "id": "3MuKTVgDCEta",
    "outputId": "d1cce456-b5a2-4984-afda-09b6ba420ea9"
   },
   "outputs": [
    {
     "data": {
      "text/plain": [
       "array([2, 3, 4, 5, 6, 7, 8, 9])"
      ]
     },
     "execution_count": 5,
     "metadata": {},
     "output_type": "execute_result"
    }
   ],
   "source": [
    "#numpy different function\n",
    "import numpy as np\n",
    "b=np.arange(2,10)\n",
    "b"
   ]
  },
  {
   "cell_type": "code",
   "execution_count": null,
   "metadata": {
    "colab": {
     "base_uri": "https://localhost:8080/"
    },
    "executionInfo": {
     "elapsed": 555,
     "status": "ok",
     "timestamp": 1715571631343,
     "user": {
      "displayName": "Baheroz Zeya",
      "userId": "09839154690143653006"
     },
     "user_tz": -330
    },
    "id": "E3zw60bVCM0w",
    "outputId": "9fddb18a-69df-4216-9581-ebb331d59d3b"
   },
   "outputs": [
    {
     "data": {
      "text/plain": [
       "array([2, 4, 6, 8])"
      ]
     },
     "execution_count": 7,
     "metadata": {},
     "output_type": "execute_result"
    }
   ],
   "source": [
    "import numpy as np\n",
    "b=np.arange(2,10,2)\n",
    "b"
   ]
  },
  {
   "cell_type": "code",
   "execution_count": null,
   "metadata": {
    "colab": {
     "base_uri": "https://localhost:8080/"
    },
    "executionInfo": {
     "elapsed": 436,
     "status": "ok",
     "timestamp": 1715571763903,
     "user": {
      "displayName": "Baheroz Zeya",
      "userId": "09839154690143653006"
     },
     "user_tz": -330
    },
    "id": "08uTgQj5CdVW",
    "outputId": "7f177887-c44c-4e92-e33e-798346dcda90"
   },
   "outputs": [
    {
     "data": {
      "text/plain": [
       "0.16326530612244916"
      ]
     },
     "execution_count": 10,
     "metadata": {},
     "output_type": "execute_result"
    }
   ],
   "source": [
    "#linspace function\n",
    "b=np.linspace(2,10)\n",
    "b\n",
    "#difference\n",
    "d=b[1]-b[0]\n",
    "d"
   ]
  },
  {
   "cell_type": "code",
   "execution_count": null,
   "metadata": {
    "colab": {
     "base_uri": "https://localhost:8080/"
    },
    "executionInfo": {
     "elapsed": 9,
     "status": "ok",
     "timestamp": 1715571857277,
     "user": {
      "displayName": "Baheroz Zeya",
      "userId": "09839154690143653006"
     },
     "user_tz": -330
    },
    "id": "tVtQH0yUDIHE",
    "outputId": "ec94036c-a9f0-467c-a623-a066bb842b70"
   },
   "outputs": [
    {
     "data": {
      "text/plain": [
       "array([ 2,  4,  6,  8, 10])"
      ]
     },
     "execution_count": 11,
     "metadata": {},
     "output_type": "execute_result"
    }
   ],
   "source": [
    "b=np.linspace(2,10,5,dtype='int')\n",
    "b"
   ]
  },
  {
   "cell_type": "code",
   "execution_count": null,
   "metadata": {
    "colab": {
     "base_uri": "https://localhost:8080/"
    },
    "executionInfo": {
     "elapsed": 440,
     "status": "ok",
     "timestamp": 1715571934296,
     "user": {
      "displayName": "Baheroz Zeya",
      "userId": "09839154690143653006"
     },
     "user_tz": -330
    },
    "id": "GgnjZHRWDeRz",
    "outputId": "10ac4f2b-144f-40b4-b337-3c661a640793"
   },
   "outputs": [
    {
     "data": {
      "text/plain": [
       "array([2, 3, 5, 6, 8])"
      ]
     },
     "execution_count": 12,
     "metadata": {},
     "output_type": "execute_result"
    }
   ],
   "source": [
    "b=np.linspace(2,10,5,dtype='int',endpoint=False)\n",
    "b\n",
    "#in this 10 will not be included\n"
   ]
  },
  {
   "cell_type": "code",
   "execution_count": null,
   "metadata": {
    "colab": {
     "base_uri": "https://localhost:8080/"
    },
    "executionInfo": {
     "elapsed": 15,
     "status": "ok",
     "timestamp": 1715572070422,
     "user": {
      "displayName": "Baheroz Zeya",
      "userId": "09839154690143653006"
     },
     "user_tz": -330
    },
    "id": "YqjFIitPD85K",
    "outputId": "cf7d6bfd-8157-40c3-f224-fbb4d04af2be"
   },
   "outputs": [
    {
     "data": {
      "text/plain": [
       "array([[1., 0., 0.],\n",
       "       [0., 1., 0.],\n",
       "       [0., 0., 1.]])"
      ]
     },
     "execution_count": 13,
     "metadata": {},
     "output_type": "execute_result"
    }
   ],
   "source": [
    "b=np.identity(3)\n",
    "#we can use np.identity as np.eye\n",
    "b\n",
    "#it will create identity matrix whose diagonal elements are 1"
   ]
  },
  {
   "cell_type": "code",
   "execution_count": null,
   "metadata": {
    "colab": {
     "base_uri": "https://localhost:8080/"
    },
    "executionInfo": {
     "elapsed": 5,
     "status": "ok",
     "timestamp": 1715572657681,
     "user": {
      "displayName": "Baheroz Zeya",
      "userId": "09839154690143653006"
     },
     "user_tz": -330
    },
    "id": "xCYFsf_xF2J0",
    "outputId": "692f627f-f553-4203-ef71-910e0a2f6a3b"
   },
   "outputs": [
    {
     "data": {
      "text/plain": [
       "array([0.85655996, 0.88774117, 0.47333128])"
      ]
     },
     "execution_count": 15,
     "metadata": {},
     "output_type": "execute_result"
    }
   ],
   "source": [
    "#it will generate number between 0-1\n",
    "b=np.random.rand(3)\n",
    "b\n"
   ]
  },
  {
   "cell_type": "code",
   "execution_count": null,
   "metadata": {
    "colab": {
     "base_uri": "https://localhost:8080/"
    },
    "executionInfo": {
     "elapsed": 5,
     "status": "ok",
     "timestamp": 1715572740644,
     "user": {
      "displayName": "Baheroz Zeya",
      "userId": "09839154690143653006"
     },
     "user_tz": -330
    },
    "id": "-v7zcp4-GeJh",
    "outputId": "a226c181-dc03-428c-8bb2-62f922758c6b"
   },
   "outputs": [
    {
     "data": {
      "text/plain": [
       "array([[0.48445646, 0.11823159, 0.54968197],\n",
       "       [0.50065405, 0.7807988 , 0.54027136]])"
      ]
     },
     "execution_count": 18,
     "metadata": {},
     "output_type": "execute_result"
    }
   ],
   "source": [
    "#it will generate 2d matrix\n",
    "b=np.random.rand(2,3)\n",
    "b\n"
   ]
  },
  {
   "cell_type": "code",
   "execution_count": null,
   "metadata": {
    "colab": {
     "base_uri": "https://localhost:8080/"
    },
    "executionInfo": {
     "elapsed": 520,
     "status": "ok",
     "timestamp": 1715572894040,
     "user": {
      "displayName": "Baheroz Zeya",
      "userId": "09839154690143653006"
     },
     "user_tz": -330
    },
    "id": "tXsn7wsNG3tZ",
    "outputId": "34432768-961b-4e5d-c597-7cca3d6f481d"
   },
   "outputs": [
    {
     "data": {
      "text/plain": [
       "array([1.60574578, 8.26543989, 1.78802586, 6.7190784 , 5.63597259,\n",
       "       5.05591967, 4.37164588, 3.07835844, 5.67673841, 9.18840384])"
      ]
     },
     "execution_count": 21,
     "metadata": {},
     "output_type": "execute_result"
    }
   ],
   "source": [
    "#to generate 0-10\n",
    "b=np.random.rand(10)*10\n",
    "b"
   ]
  },
  {
   "cell_type": "code",
   "execution_count": null,
   "metadata": {
    "colab": {
     "base_uri": "https://localhost:8080/"
    },
    "executionInfo": {
     "elapsed": 447,
     "status": "ok",
     "timestamp": 1716908431876,
     "user": {
      "displayName": "Baheroz Zeya",
      "userId": "09839154690143653006"
     },
     "user_tz": -330
    },
    "id": "8LwEHMjNHddc",
    "outputId": "432c87fd-ee22-4c73-9ed7-6b827615dd34"
   },
   "outputs": [
    {
     "data": {
      "text/plain": [
       "(4,)"
      ]
     },
     "execution_count": 3,
     "metadata": {},
     "output_type": "execute_result"
    }
   ],
   "source": [
    "a=np.array([0,1,2,3])\n",
    "a.shape\n",
    "#it will return tuple defining its rows and cols"
   ]
  },
  {
   "cell_type": "code",
   "execution_count": null,
   "metadata": {
    "colab": {
     "base_uri": "https://localhost:8080/",
     "height": 158
    },
    "executionInfo": {
     "elapsed": 749,
     "status": "error",
     "timestamp": 1716908417726,
     "user": {
      "displayName": "Baheroz Zeya",
      "userId": "09839154690143653006"
     },
     "user_tz": -330
    },
    "id": "WzqBWCMOHy4p",
    "outputId": "ab8c90f3-0129-472e-9fe9-be4ab39a84e9"
   },
   "outputs": [
    {
     "ename": "NameError",
     "evalue": "name 'np' is not defined",
     "output_type": "error",
     "traceback": [
      "\u001b[0;31m---------------------------------------------------------------------------\u001b[0m",
      "\u001b[0;31mNameError\u001b[0m                                 Traceback (most recent call last)",
      "\u001b[0;32m<ipython-input-1-0e15665be1df>\u001b[0m in \u001b[0;36m<cell line: 1>\u001b[0;34m()\u001b[0m\n\u001b[0;32m----> 1\u001b[0;31m \u001b[0mb\u001b[0m\u001b[0;34m=\u001b[0m\u001b[0mnp\u001b[0m\u001b[0;34m.\u001b[0m\u001b[0mrandom\u001b[0m\u001b[0;34m.\u001b[0m\u001b[0mrandint\u001b[0m\u001b[0;34m(\u001b[0m\u001b[0;36m10\u001b[0m\u001b[0;34m,\u001b[0m\u001b[0;36m4\u001b[0m\u001b[0;34m)\u001b[0m\u001b[0;34m\u001b[0m\u001b[0;34m\u001b[0m\u001b[0m\n\u001b[0m\u001b[1;32m      2\u001b[0m \u001b[0mb\u001b[0m\u001b[0;34m\u001b[0m\u001b[0;34m\u001b[0m\u001b[0m\n",
      "\u001b[0;31mNameError\u001b[0m: name 'np' is not defined"
     ]
    }
   ],
   "source": [
    "b=np.random.randint(10,4)\n",
    "b.size"
   ]
  },
  {
   "cell_type": "code",
   "execution_count": null,
   "metadata": {
    "colab": {
     "base_uri": "https://localhost:8080/"
    },
    "executionInfo": {
     "elapsed": 672,
     "status": "ok",
     "timestamp": 1715573146417,
     "user": {
      "displayName": "Baheroz Zeya",
      "userId": "09839154690143653006"
     },
     "user_tz": -330
    },
    "id": "Jp1_2PVuIBbZ",
    "outputId": "0b1af380-caa0-443d-921c-4b744084879d"
   },
   "outputs": [
    {
     "data": {
      "text/plain": [
       "array([[7, 9, 1, 4],\n",
       "       [5, 1, 3, 3],\n",
       "       [1, 9, 6, 2],\n",
       "       [4, 1, 9, 9]])"
      ]
     },
     "execution_count": 24,
     "metadata": {},
     "output_type": "execute_result"
    }
   ],
   "source": [
    "b=np.random.randint(10,size=(4,4))\n",
    "b"
   ]
  },
  {
   "cell_type": "code",
   "execution_count": null,
   "metadata": {
    "colab": {
     "base_uri": "https://localhost:8080/"
    },
    "executionInfo": {
     "elapsed": 497,
     "status": "ok",
     "timestamp": 1716908524657,
     "user": {
      "displayName": "Baheroz Zeya",
      "userId": "09839154690143653006"
     },
     "user_tz": -330
    },
    "id": "S3Gmc1p-IfHa",
    "outputId": "b89c7bd8-0ee4-4b06-aa9f-bd8a7be5b437"
   },
   "outputs": [
    {
     "name": "stdout",
     "output_type": "stream",
     "text": [
      "[ 9 10 11 12 13 14 15 16 17 18 19 20 21 22 23 24 25 26 27 28 29 30 31 32\n",
      " 33 34 35 36 37 38 39 40 41 42 43 44 45 46 47 48 49]\n"
     ]
    }
   ],
   "source": [
    "import numpy as np\n",
    "\n",
    "# Create the array using arange\n",
    "my_array = np.arange(9, 50)\n",
    "\n",
    "# Display the array\n",
    "print(my_array)"
   ]
  },
  {
   "cell_type": "code",
   "execution_count": null,
   "metadata": {
    "colab": {
     "base_uri": "https://localhost:8080/"
    },
    "executionInfo": {
     "elapsed": 618,
     "status": "ok",
     "timestamp": 1716908648479,
     "user": {
      "displayName": "Baheroz Zeya",
      "userId": "09839154690143653006"
     },
     "user_tz": -330
    },
    "id": "0oDMzR6gutFa",
    "outputId": "0787184a-d431-4946-d05a-583fc551fe5b"
   },
   "outputs": [
    {
     "name": "stdout",
     "output_type": "stream",
     "text": [
      "[[1. 0. 0. 0. 0. 0.]\n",
      " [0. 1. 0. 0. 0. 0.]\n",
      " [0. 0. 1. 0. 0. 0.]\n",
      " [0. 0. 0. 1. 0. 0.]\n",
      " [0. 0. 0. 0. 1. 0.]]\n"
     ]
    }
   ],
   "source": [
    "import numpy as np\n",
    "\n",
    "# Create an identity-like matrix of size 5x6\n",
    "identity_like_matrix = np.zeros((5, 6))\n",
    "np.fill_diagonal(identity_like_matrix, 1)\n",
    "\n",
    "print(identity_like_matrix)\n"
   ]
  },
  {
   "cell_type": "markdown",
   "metadata": {},
   "source": [
    "import numpy as np\n",
    "a=np.random.randint(0,10,(3,3))\n",
    " b=np.random.randint(10,20,(3,3))\n",
    " print(np.add(a,b))\n",
    " print(np.subtract(a,b))\n",
    " print(np.multiply(a,b))\n",
    " print(np.divide(a,b))\n",
    " array=[1,3,4,5]\n",
    " trans=np.transpose(array)\n",
    " print(trans)\n",
    "\n",
    " \n",
    "\n"
   ]
  }
 ],
 "metadata": {
  "colab": {
   "authorship_tag": "ABX9TyOyeGlUXJO1RwCG3YLM+5C1",
   "provenance": []
  },
  "kernelspec": {
   "display_name": "Python 3",
   "name": "python3"
  },
  "language_info": {
   "name": "python"
  }
 },
 "nbformat": 4,
 "nbformat_minor": 0
}
