{
  "nbformat": 4,
  "nbformat_minor": 0,
  "metadata": {
    "colab": {
      "provenance": []
    },
    "kernelspec": {
      "name": "python3",
      "display_name": "Python 3"
    },
    "language_info": {
      "name": "python"
    }
  },
  "cells": [
    {
      "cell_type": "code",
      "execution_count": null,
      "metadata": {
        "id": "56anx7HuMwl8"
      },
      "outputs": [],
      "source": [
        "#what is machine learning\n",
        "#we give some data to do analysis on the basis of it ,that mean we feed the data on the basis o"
      ]
    },
    {
      "cell_type": "code",
      "source": [
        "#in this x will be independent variable and y will be dependent variable\n",
        "#seeing how x varies with y when we see using first 5 r and 5 c\n",
        "#related with linear regression model\n",
        "#plotting the data points and fitting the curve\n",
        "#in this model is responsible to establish the realtionship between the feature and target variable\n",
        "#through which machine learning model makes predictions and recogonizes patterns\n",
        "#models can be linear and also can be quadratic depending on the use case\n"
      ],
      "metadata": {
        "id": "13B8X29OOnrO"
      },
      "execution_count": null,
      "outputs": []
    },
    {
      "cell_type": "code",
      "source": [
        "#supervised learning in which the machine learning algorithm learns from the labelled data\n",
        "#suppose that we have identify the species that is it is cat or dog with the help of labels\n"
      ],
      "metadata": {
        "id": "lirFfC-_yO91"
      },
      "execution_count": null,
      "outputs": []
    },
    {
      "cell_type": "code",
      "source": [
        "#classification is about predicting a class or discrete values eg--->male or female\n",
        "#regression is about predicting a quantity or continous values eg:salary,age or price\n",
        "#in classification we can refer as dog or cat classifier\n",
        "#in regression we can refers as amount of rainfall\n"
      ],
      "metadata": {
        "id": "UfzFPQjbywIl"
      },
      "execution_count": null,
      "outputs": []
    },
    {
      "cell_type": "code",
      "source": [
        "#classification includes:\n",
        "#logistic regression\n",
        "#support vector machine classifier\n",
        "#decision tree\n",
        "#k-nearest neighbours\n",
        "#random forest\n",
        "#naive bayes classifier\n",
        "#regression includes:\n",
        "#linear\n",
        "#laso\n",
        "#polynomial\n",
        "#support vector machine regressor\n",
        "#random forest aggresor\n",
        "#bayesian linear regressor"
      ],
      "metadata": {
        "id": "AXVjcb5s0nw-"
      },
      "execution_count": null,
      "outputs": []
    },
    {
      "cell_type": "code",
      "source": [
        "#unsupervised learning where we train the models using unlabelled data\n",
        "#-->clustering(grouping similar data points) and association(to find relationship between data points)\n",
        "#clustreing include an example as two network\n",
        "#association include suing the thing to find relationship like in bread,jam and egg\n"
      ],
      "metadata": {
        "id": "Dv1P6TQG2eVq"
      },
      "execution_count": null,
      "outputs": []
    },
    {
      "cell_type": "code",
      "source": [
        "#unsupervised learning models include--->\n",
        "#k-means clustering\n",
        "#hierarichal clustering\n",
        "#pca\n",
        "#apriori\n",
        "#eclat\n"
      ],
      "metadata": {
        "id": "OX57Brwc4rVu"
      },
      "execution_count": null,
      "outputs": []
    },
    {
      "cell_type": "code",
      "source": [
        "#when to choose the right machine learning model\n",
        "#it depends on the datatset,task,nature of model\n",
        "#model selection will be based on\n",
        "#if image and videos-cnn\n",
        "#text data or speech data-rnn\n",
        "#numerical data-svm/logistic regression/decsiion trees etc\n",
        "#on the basis of task it also carried out\n",
        "# for classification we have option of svm(smaller dataset),logistic,regression,decision trees etc\n",
        "#for regression tasks-linear,random forest,polynomial regression\n",
        "#clustering tasks-k-means clustering,heirarichal clustering\n"
      ],
      "metadata": {
        "id": "Ey_dAMYc5O3e"
      },
      "execution_count": null,
      "outputs": []
    },
    {
      "cell_type": "code",
      "source": [
        "#based on accuracy we choose the model\n",
        "#evalaution of accuracy depend on changing the test data through iterating\n",
        "#find mean accuracy wrt models for different dataset\n",
        "#this is cross validation technique\n",
        "#overfitting in ml means negative impact the performance of the model\n",
        "#sign that give you hint is high training data accuracy and very low test data accuracy\n",
        "#cause of overfitting is less data,increased complexity of the model,more number of layers in neural network\n",
        "#prevent of overfitting by reducing the number of layers in neural network\n",
        "#early stopping\n",
        "#bias-variance tradeoff\n",
        "#use dropouts\n",
        "\n"
      ],
      "metadata": {
        "id": "IO1bsKpWj0_V"
      },
      "execution_count": null,
      "outputs": []
    },
    {
      "cell_type": "code",
      "source": [
        "#underfitting happens when the model does not learn enough from the data\n",
        "#underfitting occurs when a machine learning model cannot capture the undelying of the data\n",
        "#very low training data accuracy cause of underfitting\n",
        "#choosing a wrong model,less complexity of tge model,less variance but high bias\n",
        "#choosing the correct model appropriate for the problem\n",
        "#increasing the complexity of the model\n",
        "#more number of parameters to the model(y=mx+c,y=x^2+c)\n",
        "#choosing quad over linear\n",
        "#bias-variance tradeoff:used to find the optimal model\n"
      ],
      "metadata": {
        "id": "r5hBXH8Q33Ow"
      },
      "execution_count": null,
      "outputs": []
    },
    {
      "cell_type": "code",
      "source": [
        "#bias variance tradeoff-bias is the difference between the average prediction of our model\n",
        "# and the correct value which we are trying to predict\n",
        "#the gap form the reference is called bias"
      ],
      "metadata": {
        "id": "8Q3nhiMKaYRN"
      },
      "execution_count": null,
      "outputs": []
    },
    {
      "cell_type": "code",
      "source": [
        "#variance is the amount that the estimate of the target function will change if different training data was used\n",
        "#they will give a problem for which we have to go for underfitting overfitting\n"
      ],
      "metadata": {
        "id": "A-baOsnyeDM4"
      },
      "execution_count": null,
      "outputs": []
    },
    {
      "cell_type": "code",
      "source": [
        "#techniques to have better bias-variance tradeoff\n",
        "#good model selection\n",
        "#regularization\n",
        "#dimensionality reduction\n",
        "#ensemble method"
      ],
      "metadata": {
        "id": "lp-Lg7Jiqc5r"
      },
      "execution_count": null,
      "outputs": []
    },
    {
      "cell_type": "code",
      "source": [
        "#loss function in ml:it measures how far an estimated value is from its true value\n",
        "#it is helpful to determine which model performs better and which parameters are better\n",
        "#less loss function is good choice\n",
        "#understand the formula for calculation\n",
        "#cross entropy loss\n",
        "#squared error loss\n",
        "#kl divergence\n",
        "#whenver we have to check model using loss value,then prefer less loss value becuase it has high accurcay\n"
      ],
      "metadata": {
        "id": "Xec4ZMjurouR"
      },
      "execution_count": null,
      "outputs": []
    },
    {
      "cell_type": "code",
      "source": [
        "#work flow of ml project\n",
        "# step 1:collection of data\n",
        "# 2:data pre-processing\n",
        "# 3:data analysis\n",
        "# 4:train test split\n",
        "# 5:xg-boost regressor\n",
        "# 6:evaluation\n",
        "#accuracy score is the ratio of number of correct predictions to the total number of input data points\n",
        "#using from sklearn.metrics import accuracy score\n",
        "#mean squared error is the average of the squares of the errors\n"
      ],
      "metadata": {
        "id": "pfokP7zPMivv"
      },
      "execution_count": null,
      "outputs": []
    },
    {
      "cell_type": "code",
      "source": [
        "#Parameters:\n",
        "#model parameters:these are the parameters of the model that can be determined by training with training data\n",
        "#these can be considered as internal parameters such as weight and bias\n",
        "#weight and bias\n",
        "#hyper parameters:parameters are whose values control the learning process\n",
        "#these are adjustable parameters used to obtain an optimal model i.e external parameters\n",
        "#i.e learning rate and no of epochs\n",
        "# weight decides how much influence the input will have on the output\n",
        "#each column represents unqiue weights value\n",
        "#that is of negative and positive type\n",
        "# y=wx+b\n",
        "# x-feature or input variable\n",
        "# y-target or output variable\n",
        "# w-weight\n",
        "# b-bias\n",
        "# bias is offset value given to the model which is similar to y intercept\n",
        "# where b is equal to y when all the features values are zero\n"
      ],
      "metadata": {
        "id": "U0qJmvdChxD4"
      },
      "execution_count": null,
      "outputs": []
    },
    {
      "cell_type": "code",
      "source": [
        "#for linear regression\n",
        "#Y=wX+b\n",
        "# here x value,y value\n",
        "# weight and bias are model parameters\n",
        "#low loss function represents good model or accurate model i.e at global minimum\n",
        "#learning rate is a turing parameter in an optimization algorithm that determines the\n",
        "# step size at each iteration while moving towards a minimum of a loss fucntion\n",
        "#related to gradient descent in optimization algorithm\n",
        "#no of epochs means the number of times the model iterates over the entire dataset\n",
        "#there should have optimum no of epochs"
      ],
      "metadata": {
        "id": "Bk1pKbW8jn_I"
      },
      "execution_count": null,
      "outputs": []
    },
    {
      "cell_type": "code",
      "source": [
        "# model optimization refers to determining best para,eters for a model,such that the loss\n",
        "# function of the model decreases to make model predict more accurately\n",
        "#suppose that if we have given model with different data points\n",
        "#then choose the models in which we have same behaviour wrt data points\n",
        "#so in gradient descent we have graph between loss fucntion and weight\n",
        "# on the basis of which we decide the prediction of the model\n",
        "#global minimum have least value of loss function which ensures the good model\n",
        "#w=w-l*dw\n",
        "#b=b-l*dw\n",
        "# w=weight,b=bias,l=learning rate\n",
        "# dw=partial derivative of loss fucntion with respect to w\n",
        "# db=partial derivative of loss fucntion with respect to b\n",
        "# l=learning rate"
      ],
      "metadata": {
        "id": "aESGmli-QG2t"
      },
      "execution_count": null,
      "outputs": []
    }
  ]
}